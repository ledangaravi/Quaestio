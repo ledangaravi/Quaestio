{
  "nbformat": 4,
  "nbformat_minor": 0,
  "metadata": {
    "colab": {
      "name": "Hypothesis Testing.ipynb",
      "provenance": []
    },
    "kernelspec": {
      "name": "python3",
      "display_name": "Python 3"
    }
  },
  "cells": [
    {
      "cell_type": "code",
      "metadata": {
        "id": "IQJWhJM_pVpQ",
        "colab_type": "code",
        "colab": {}
      },
      "source": [
        "import json\n",
        "import copy\n",
        "import numpy as np\n",
        "from scipy import stats\n",
        "import matplotlib.pyplot as plt\n",
        "\n",
        "np.random.seed(0)"
      ],
      "execution_count": 0,
      "outputs": []
    },
    {
      "cell_type": "code",
      "metadata": {
        "id": "ezPr8ksl9CjW",
        "colab_type": "code",
        "colab": {}
      },
      "source": [
        "with open('survey_data.json') as json_file:\n",
        "    data = json.load(json_file)\n",
        "    \n",
        "data_robot = data['Data']\n",
        "data_human = data['Data_Human']"
      ],
      "execution_count": 0,
      "outputs": []
    },
    {
      "cell_type": "code",
      "metadata": {
        "id": "0WccHgzq8xNC",
        "colab_type": "code",
        "colab": {}
      },
      "source": [
        "responses_H1_Human = {\n",
        "    \"qCount\" : [],\n",
        "}\n",
        "\n",
        "responses_H1_Mech = {\n",
        "    \"qCount\" : [],\n",
        "}\n",
        "\n",
        "responses_H1_Dig = {\n",
        "    \"qCount\" : [],\n",
        "}\n",
        "\n",
        "responses_H3_Human = {\n",
        "    \"qCount\" : [],\n",
        "}\n",
        "\n",
        "responses_H3_Robot = {\n",
        "    \"qCount\" : [],\n",
        "}\n",
        "\n",
        "threshold = 10\n",
        "#H1:\n",
        "for sessionKey,sessionValue in data_human.items():\n",
        "    #check if session has any response in it\n",
        "    if (len(sessionValue)) > 4:\n",
        "        #SESSION START\n",
        "        sessionStartTime = sessionValue['start_time']\n",
        "        sessionValueCopy = copy.deepcopy(sessionValue)\n",
        "        for responseKey, responseValue in sessionValue.items():\n",
        "            #check if is valid response\n",
        "            if(len(responseKey)) > 15:\n",
        "                #RESPONSE START\n",
        "                if len(responseValue) > threshold:\n",
        "                    responses_H1_Human['qCount'].append(len(responseValue))\n",
        "  \n",
        "\n",
        "for sessionKey, sessionValue in data_robot.items():\n",
        "    if ((len(sessionValue)) > 1) and (sessionValue['SurveySetInfo']['Short_Limit'] > 15) and (sessionValue['SurveySetInfo']['Face_Type'] == \"M\"):\n",
        "        sessionStartTime = sessionValue['SurveySetInfo']['Creation_Time']\n",
        "        sessionValueCopy = copy.deepcopy(sessionValue)\n",
        "        \n",
        "        for responseKey, responseValue in sessionValue.items():\n",
        "            #check if is valid response\n",
        "            if((len(responseKey)) < 10):\n",
        "                qCount = 0\n",
        "                for questionKey, questionValue in responseValue.items():\n",
        "                    \n",
        "                    if questionKey.startswith('Q') and (not questionValue['Response'] == \"Skip\"): qCount += 1\n",
        "            if qCount >= threshold:\n",
        "              responses_H1_Mech['qCount'].append(qCount)\n",
        "                        \n",
        "for sessionKey, sessionValue in data_robot.items():\n",
        "    if ((len(sessionValue)) > 1) and (sessionValue['SurveySetInfo']['Short_Limit'] > 15) and (sessionValue['SurveySetInfo']['Face_Type'] == \"F\"):\n",
        "        sessionStartTime = sessionValue['SurveySetInfo']['Creation_Time']\n",
        "        sessionValueCopy = copy.deepcopy(sessionValue)\n",
        "        \n",
        "        for responseKey, responseValue in sessionValue.items():\n",
        "            #check if is valid response\n",
        "            if((len(responseKey)) < 10):\n",
        "                qCount = 0\n",
        "                for questionKey, questionValue in responseValue.items():\n",
        "                    \n",
        "                    if questionKey.startswith('Q') and (not questionValue['Response'] == \"Skip\"): qCount += 1\n",
        "            if qCount >= threshold:\n",
        "              responses_H1_Dig['qCount'].append(qCount)\n",
        "                        \n",
        "for sessionKey, sessionValue in data_robot.items():\n",
        "    if ((len(sessionValue)) > 1) and (sessionValue['SurveySetInfo']['Short_Limit'] < 15) and (sessionValue['SurveySetInfo']['Data_Notice']):\n",
        "        sessionStartTime = sessionValue['SurveySetInfo']['Creation_Time']\n",
        "        sessionValueCopy = copy.deepcopy(sessionValue)\n",
        "        \n",
        "        for responseKey, responseValue in sessionValue.items():\n",
        "            #check if is valid response\n",
        "            if((len(responseKey)) < 10):\n",
        "                qCount = 0\n",
        "                for questionKey, questionValue in responseValue.items():\n",
        "                    \n",
        "                    if questionKey.startswith('Q') and (not questionValue['Response'] == \"Skip\"): qCount += 1\n",
        "            if qCount >= threshold:\n",
        "                responses_H3_Human['qCount'].append(qCount)\n",
        "                        \n",
        "for sessionKey, sessionValue in data_robot.items():\n",
        "    if ((len(sessionValue)) > 1) and (sessionValue['SurveySetInfo']['Short_Limit'] < 15) and (not sessionValue['SurveySetInfo']['Data_Notice']):\n",
        "        sessionStartTime = sessionValue['SurveySetInfo']['Creation_Time']\n",
        "        sessionValueCopy = copy.deepcopy(sessionValue)\n",
        "        \n",
        "        for responseKey, responseValue in sessionValue.items():\n",
        "            #check if is valid response\n",
        "            if((len(responseKey)) < 10):\n",
        "                qCount = 0\n",
        "                for questionKey, questionValue in responseValue.items():\n",
        "                    \n",
        "                    if questionKey.startswith('Q') and (not questionValue['Response'] == \"Skip\"): qCount += 1\n",
        "            if qCount >= threshold:\n",
        "                responses_H3_Robot['qCount'].append(qCount)"
      ],
      "execution_count": 0,
      "outputs": []
    },
    {
      "cell_type": "code",
      "metadata": {
        "id": "ew-2iZuvpqpp",
        "colab_type": "code",
        "colab": {}
      },
      "source": [
        "def normalityTest(x):\n",
        "  stat, p_value = stats.shapiro(x)\n",
        "  if p_value < 0.05:\n",
        "    print(\"Dataset is NOT normally distributed. statistic = \" + str(stat) + \", p-value = \" + str(p_value) + \" < 0.05\")\n",
        "    return p_value, False\n",
        "  else:\n",
        "    print(\"Dataset is normally distributed. statistic = \" + str(stat) + \", p-value = \" + str(p_value) + \" >= 0.05\")\n",
        "    return p_value, True\n",
        "\n",
        "def varianceHomogeneityTest(x, y):\n",
        "  _, p_value = stats.levene(x, y)\n",
        "  if p_value < 0.05:\n",
        "    print(\"Variances are NOT equal. p-value = \" + str(p_value) + \" < 0.05\")\n",
        "    return p_value, False\n",
        "  else:\n",
        "    print(\"Variances are equal. p-value = \" + str(p_value) + \" >= 0.05\")\n",
        "    return p_value, True\n",
        "\n",
        "def tTest(x, y, var_homogeneity=True):\n",
        "  stat, p_value = stats.ttest_ind(x, y, equal_var=var_homogeneity)\n",
        "  if p_value < 0.05:\n",
        "    print(\"Null hypothesis rejected by the Independent T-test. statistic = \" + str(stat) + \", p-value = \" + str(p_value) + \" < 0.05\")\n",
        "  else:\n",
        "    print(\"Null hypothesis accepted by the Independent T-test. statistic = \" + str(stat) + \", p-value = \" + str(p_value) + \" >= 0.05\")\n",
        "  if (var_homogeneity == False):\n",
        "    print(\"Equal variance not assumed.\")\n",
        "  return statistic, p_value\n",
        "\n",
        "def uTest(x, y):\n",
        "  stat, p_value = stats.mannwhitneyu(x, y, alternative=\"greater\")\n",
        "  if p_value < 0.05:\n",
        "    print(\"Null hypothesis rejected by the Mann-Whitney U-test. statistic = \" + str(stat) + \", p-value = \" + str(p_value) + \" < 0.05\")\n",
        "  else:\n",
        "    print(\"Null hypothesis accepted by the Mann-Whitney U-test. statistic = \" + str(stat) + \", p-value = \" + str(p_value) + \" >= 0.05\")\n",
        "  return statistic, p_value\n",
        "\n",
        "def evaluate(x, y, title=\"\"):\n",
        "  print(title + \"\\n\")\n",
        "  print(\"Dataset 1 \" + \n",
        "        \"\\n(median, standard deviation, size) (\" + str(np.median(x)) + \", \" + str(np.std(x)) + \", \" + str(len(x)) + \")\"\n",
        "        \"\\n\\nDataset 2 \" + \n",
        "        \"\\n(median, standard deviation, size) (\" + str(np.median(y)) + \", \" + str(np.std(y)) + \", \" + str(len(y)) + \")\\n\")\n",
        "  if (np.mean(x) > np.mean(y)):\n",
        "    print(\"Dataset 1 > Dataset 2\\n\")\n",
        "  else:\n",
        "    print(\"Dataset 1 < Dataset 2\\n\")\n",
        "  _, x_norm = normalityTest(x)\n",
        "  _, y_norm = normalityTest(y)\n",
        "  if (x_norm and y_norm):\n",
        "    _, var_homogeneity = varianceHomogeneityTest(x, y)\n",
        "    statistic, p_value = tTest(x, y, var_homogeneity)\n",
        "  else:\n",
        "    statistic, p_value = uTest(x, y)\n",
        "  print(\"\\n\")\n",
        "  return statistic, p_value\n",
        "\n",
        "def plotHistogram(x, title=\"\"):\n",
        "  plt.figure(figsize=(10,7))\n",
        "  with plt.style.context('seaborn-darkgrid'): \n",
        "    plt.title(title)\n",
        "    plt.xlabel(\"Questions Answered\")\n",
        "    plt.ylabel(\"Frequency\")\n",
        "    plt.hist(x)\n",
        "  plt.show()"
      ],
      "execution_count": 0,
      "outputs": []
    },
    {
      "cell_type": "code",
      "metadata": {
        "id": "KMKX_ZgyY4dh",
        "colab_type": "code",
        "colab": {
          "base_uri": "https://localhost:8080/",
          "height": 455
        },
        "outputId": "855bc731-54df-4b1f-e46e-b9b06897b998"
      },
      "source": [
        "plotHistogram(responses_H1_Human['qCount'], \"Human - Long survey\")"
      ],
      "execution_count": 45,
      "outputs": [
        {
          "output_type": "display_data",
          "data": {
            "image/png": "[encoded data removed]",
            "text/plain": [
              "<Figure size 720x504 with 1 Axes>"
            ]
          },
          "metadata": {
            "tags": []
          }
        }
      ]
    },
    {
      "cell_type": "code",
      "metadata": {
        "id": "VT1oLyMMY8FR",
        "colab_type": "code",
        "colab": {
          "base_uri": "https://localhost:8080/",
          "height": 455
        },
        "outputId": "dcf86faa-5202-49f6-cc7d-944ae1a32700"
      },
      "source": [
        "plotHistogram(responses_H1_Dig['qCount'], \"Robot, digital interface - Long survey\")"
      ],
      "execution_count": 46,
      "outputs": [
        {
          "output_type": "display_data",
          "data": {
            "image/png": "[encoded data removed]",
            "text/plain": [
              "<Figure size 720x504 with 1 Axes>"
            ]
          },
          "metadata": {
            "tags": []
          }
        }
      ]
    },
    {
      "cell_type": "code",
      "metadata": {
        "id": "OwHbum_8ZBdo",
        "colab_type": "code",
        "colab": {
          "base_uri": "https://localhost:8080/",
          "height": 455
        },
        "outputId": "36582377-7ebc-47a7-8d84-476d8f725a76"
      },
      "source": [
        "plotHistogram(responses_H1_Mech['qCount'], \"Robot, mechanical interface - Long survey\")"
      ],
      "execution_count": 47,
      "outputs": [
        {
          "output_type": "display_data",
          "data": {
            "image/png": "[encoded data removed]",
            "text/plain": [
              "<Figure size 720x504 with 1 Axes>"
            ]
          },
          "metadata": {
            "tags": []
          }
        }
      ]
    },
    {
      "cell_type": "code",
      "metadata": {
        "id": "f72gGc8pZB3a",
        "colab_type": "code",
        "colab": {
          "base_uri": "https://localhost:8080/",
          "height": 455
        },
        "outputId": "e5c68cb7-8dfd-42e5-b194-1314204ad5db"
      },
      "source": [
        "plotHistogram(responses_H3_Human['qCount'], \"Human - Personal survey\")"
      ],
      "execution_count": 48,
      "outputs": [
        {
          "output_type": "display_data",
          "data": {
            "image/png": "[encoded data removed]",
            "text/plain": [
              "<Figure size 720x504 with 1 Axes>"
            ]
          },
          "metadata": {
            "tags": []
          }
        }
      ]
    },
    {
      "cell_type": "code",
      "metadata": {
        "id": "9ac0z7IdYVfN",
        "colab_type": "code",
        "colab": {
          "base_uri": "https://localhost:8080/",
          "height": 455
        },
        "outputId": "f5cce4d2-e515-47cf-d96f-ecf79efd545d"
      },
      "source": [
        "plotHistogram(responses_H3_Robot['qCount'], \"Robot, digital interface - Personal survey\")"
      ],
      "execution_count": 49,
      "outputs": [
        {
          "output_type": "display_data",
          "data": {
            "image/png": "[encoded data removed]",
            "text/plain": [
              "<Figure size 720x504 with 1 Axes>"
            ]
          },
          "metadata": {
            "tags": []
          }
        }
      ]
    },
    {
      "cell_type": "code",
      "metadata": {
        "id": "x2AXWro89LXm",
        "colab_type": "code",
        "colab": {
          "base_uri": "https://localhost:8080/",
          "height": 782
        },
        "outputId": "57b72166-5bab-4007-a833-aa174043bcac"
      },
      "source": [
        "_, _ = evaluate(np.concatenate([responses_H1_Mech['qCount'], responses_H1_Dig['qCount']]), responses_H1_Human['qCount'], \"H1 - Robot vs Human\")\n",
        "_, _ = evaluate(responses_H1_Dig['qCount'], responses_H1_Mech['qCount'], \"H2 - Digital vs Mech\")\n",
        "_, _ = evaluate(responses_H3_Robot['qCount'], responses_H3_Human['qCount'], \"H3 - Robot vs Human\")"
      ],
      "execution_count": 69,
      "outputs": [
        {
          "output_type": "stream",
          "text": [
            "H1 - Robot vs Human\n",
            "\n",
            "Dataset 1 \n",
            "(median, standard deviation, size) (19.5, 10.852715262616474, 70)\n",
            "\n",
            "Dataset 2 \n",
            "(median, standard deviation, size) (34.0, 9.555268442427911, 27)\n",
            "\n",
            "Dataset 1 < Dataset 2\n",
            "\n",
            "Dataset is NOT normally distributed. statistic = 0.8654149770736694, p-value = 2.134357600880321e-06 < 0.05\n",
            "Dataset is NOT normally distributed. statistic = 0.8747817873954773, p-value = 0.0037133407313376665 < 0.05\n",
            "Null hypothesis accepted by the Mann-Whitney U-test. statistic = 463.5, p-value = 0.9999501628363542 >= 0.05\n",
            "\n",
            "\n",
            "H2 - Digital vs Mech\n",
            "\n",
            "Dataset 1 \n",
            "(median, standard deviation, size) (20.0, 7.693087400387442, 32)\n",
            "\n",
            "Dataset 2 \n",
            "(median, standard deviation, size) (19.0, 12.62381888828019, 38)\n",
            "\n",
            "Dataset 1 < Dataset 2\n",
            "\n",
            "Dataset is NOT normally distributed. statistic = 0.8960342407226562, p-value = 0.004916051402688026 < 0.05\n",
            "Dataset is NOT normally distributed. statistic = 0.8190373778343201, p-value = 2.6148616598220542e-05 < 0.05\n",
            "Null hypothesis accepted by the Mann-Whitney U-test. statistic = 581.0, p-value = 0.6274892466149375 >= 0.05\n",
            "\n",
            "\n",
            "H3 - Robot vs Human\n",
            "\n",
            "Dataset 1 \n",
            "(median, standard deviation, size) (15.0, 1.539600717839002, 27)\n",
            "\n",
            "Dataset 2 \n",
            "(median, standard deviation, size) (12.0, 2.3151673805580453, 15)\n",
            "\n",
            "Dataset 1 > Dataset 2\n",
            "\n",
            "Dataset is NOT normally distributed. statistic = 0.8107437491416931, p-value = 0.00021130837558303028 < 0.05\n",
            "Dataset is NOT normally distributed. statistic = 0.8066490888595581, p-value = 0.0044800834730267525 < 0.05\n",
            "Null hypothesis rejected by the Mann-Whitney U-test. statistic = 320.5, p-value = 0.0007465370298208936 < 0.05\n",
            "\n",
            "\n"
          ],
          "name": "stdout"
        }
      ]
    }
  ]
}
